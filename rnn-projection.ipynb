{
 "cells": [
  {
   "cell_type": "code",
   "execution_count": null,
   "metadata": {},
   "outputs": [],
   "source": [
    "import numpy as np\n",
    "import matplotlib.pyplot as plt"
   ]
  },
  {
   "cell_type": "code",
   "execution_count": null,
   "metadata": {},
   "outputs": [],
   "source": [
    "import os\n",
    "input_file = 'mariel-1.npy'\n",
    "#input_file = 'carrie-10-min-scaled.npy'\n",
    "#input_file = 'carrie-10-mins.npy'\n",
    "\n",
    "X0 = np.load(os.path.join('data','npy', input_file))\n",
    "\n",
    "if input_file == 'mariel-1.npy':\n",
    "    X0 = X0.transpose((1,0,2))\n",
    "    X0 = X0[1300:7000]\n",
    "    X0[:,:,2] *= -1\n",
    "    X = X0.copy()\n",
    "    X -= X.mean(axis=(0,1))\n",
    "    X *= 0.5\n",
    "elif input_file == 'carrie-10-min-scaled.npy':\n",
    "    X0 = X0.transpose((1,0,2))\n",
    "    X = X0.copy()\n",
    "    X[:,:,1] = X0[:,:,2]\n",
    "    X[:,:,2] = X0[:,:,1]\n",
    "    X = X[100:]\n",
    "    X[:,:,:2] -= 0.5\n",
    "if input_file == 'carrie-10-mins.npy':\n",
    "    X0 = X0.transpose((1,0,2))\n",
    "    X0 = X0[100:]\n",
    "    X0[:,:,2] *= -1\n",
    "    X = X0.copy()\n",
    "    X -= X.mean(axis=(0,1))\n",
    "    X *= 0.25\n",
    "    \n",
    "    \n",
    "print(X.shape)"
   ]
  },
  {
   "cell_type": "code",
   "execution_count": null,
   "metadata": {},
   "outputs": [],
   "source": [
    "plt.plot(X.mean(axis=1));\n",
    "plt.figure()\n",
    "plt.hist([X[:,:,0].flatten(),X[:,:,1].flatten(),X[:,:,2].flatten()], histtype='step');"
   ]
  },
  {
   "cell_type": "code",
   "execution_count": null,
   "metadata": {},
   "outputs": [],
   "source": [
    "print(X.max(axis=(0,1)))\n",
    "print(X.min(axis=(0,1)))"
   ]
  },
  {
   "cell_type": "code",
   "execution_count": null,
   "metadata": {},
   "outputs": [],
   "source": [
    "print(X.mean(axis=(0,1)))\n",
    "print(X.std(axis=(0,1)))"
   ]
  },
  {
   "cell_type": "code",
   "execution_count": null,
   "metadata": {},
   "outputs": [],
   "source": [
    "import matplotlib\n",
    "import matplotlib.pyplot as plt\n",
    "import mpl_toolkits.mplot3d.axes3d as p3\n",
    "from mpl_toolkits.mplot3d.art3d import juggle_axes\n",
    "from matplotlib import animation\n",
    "from IPython.display import HTML\n",
    "\n",
    "# ask matplotlib to plot up to 2^128 frames in animations\n",
    "matplotlib.rcParams['animation.embed_limit'] = 2**128\n",
    "\n",
    "def update_points(time, points, df):\n",
    "  '''\n",
    "  Callback function called by plotting function below. Mutates the vertex\n",
    "  positions of each value in `points` so the animation moves\n",
    "  @param int time: the index of the time slice to visualize within `df`\n",
    "  @param mpl_toolkits.mplot3d.art3d.Path3DCollection points: the actual\n",
    "    geometry collection whose internal values this function mutates to move\n",
    "    the displayed points\n",
    "  @param numpy.ndarray df: a numpy array with the following three axes:\n",
    "    df.shape[0] = n_vertices\n",
    "    df.shape[1] = n_time_slices\n",
    "    df.shape[2] = n_dimensions\n",
    "  '''\n",
    "  points._offsets3d = juggle_axes(df[time,:,0], df[time,:,1], df[time,:,2], 'z')\n",
    "\n",
    "def animate(seq, frames=None, axis_min=-.5, axis_max=0.5, speed=45):\n",
    "    if frames is None:\n",
    "        frames = len(seq)\n",
    "    fig = plt.figure()\n",
    "    ax = p3.Axes3D(fig)\n",
    "    ax.set_xlim(axis_min, axis_max)\n",
    "    ax.set_ylim(axis_min, axis_max)\n",
    "    ax.set_zlim(axis_min, axis_max*1.5)\n",
    "    points = ax.scatter(seq[0,:,0], seq[0,:,1], seq[0,:,2], depthshade=False)\n",
    "    return animation.FuncAnimation(\n",
    "        fig,\n",
    "        update_points,\n",
    "        frames,\n",
    "        interval=speed,\n",
    "        fargs=(points, seq),\n",
    "        blit=False,\n",
    "    ).to_jshtml()\n",
    "\n",
    "def plot_pose(x):\n",
    "    fig = plt.figure()\n",
    "    ax = p3.Axes3D(fig)\n",
    "    ax.set_xlim(-0.5,0.5)\n",
    "    ax.set_ylim(-0.5,0.5)\n",
    "    ax.set_zlim(-0.5,0.5*1.5)\n",
    "    ax.scatter(x[:,0], x[:,1], x[:,2])"
   ]
  },
  {
   "cell_type": "code",
   "execution_count": null,
   "metadata": {},
   "outputs": [],
   "source": [
    "HTML(animate(X[100:300]))"
   ]
  },
  {
   "cell_type": "code",
   "execution_count": null,
   "metadata": {},
   "outputs": [],
   "source": [
    "import os\n",
    "import tensorflow as tf\n",
    "# config for Gatsby cores\n",
    "if 'gatsby' in os.environ['HOSTNAME']:\n",
    "\n",
    "    # specify target gpu device\n",
    "    os.environ['CUDA_VISIBLE_DEVICES'] = '0' # either '0' or '1' to utilize Titan X GPUs\n",
    "\n",
    "    # allow dynamic GPU allocation\n",
    "    config = tf.ConfigProto()\n",
    "    config.gpu_options.allow_growth = True\n",
    "    session = tf.Session(config=config)\n",
    "    \n",
    "import keras.backend as K\n",
    "from keras import layers\n",
    "from keras.models import Model"
   ]
  },
  {
   "cell_type": "code",
   "execution_count": null,
   "metadata": {},
   "outputs": [],
   "source": [
    "def mk_model(lookback=60, npred=1, n_cells=(32,32,32)):\n",
    "    K.clear_session()\n",
    "    \n",
    "    input_layer = layers.Input((lookback, X.shape[1], X.shape[2]))\n",
    "    H = input_layer\n",
    "    \n",
    "    H = layers.Reshape((lookback, X.shape[1]*X.shape[2]))(H)\n",
    "    \n",
    "    for nc in n_cells[:-1]:\n",
    "        H = layers.CuDNNLSTM(nc, return_sequences=True)(H)\n",
    "    H = layers.CuDNNLSTM(n_cells[-1])(H)\n",
    "    H = layers.Dense(npred*X.shape[1]*X.shape[2], activation='tanh')(H)\n",
    "    H = layers.Reshape((npred,X.shape[1],X.shape[2]))(H)\n",
    "    output_layer = H\n",
    "    \n",
    "    model = Model(input_layer, output_layer)\n",
    "    model.compile(loss='mse', optimizer='adam')\n",
    "    return model"
   ]
  },
  {
   "cell_type": "code",
   "execution_count": null,
   "metadata": {},
   "outputs": [],
   "source": [
    "lookback = 32\n",
    "npred = 4\n",
    "model = mk_model(lookback, npred, n_cells=(64,64,64))\n",
    "model.summary()\n",
    "\n",
    "losses = []"
   ]
  },
  {
   "cell_type": "code",
   "execution_count": null,
   "metadata": {},
   "outputs": [],
   "source": [
    "K.set_value(model.optimizer.lr, 1e-4)"
   ]
  },
  {
   "cell_type": "code",
   "execution_count": null,
   "metadata": {},
   "outputs": [],
   "source": [
    "# bs=128, lr=1e-4, no rotation should get interesting results in about 600 epochs\n",
    "epochs = 160\n",
    "batch_size = 128\n",
    "do_rotation = False\n",
    "\n",
    "nbatches = (len(X)-batch_size*lookback-npred)//batch_size\n",
    "\n",
    "idxs = np.arange(len(X))\n",
    "#nbatches = (len(X)-1)//(batch_size*lookback)\n",
    "print(\"Nbatches =\", nbatches)\n",
    "for iepoch in range(epochs):\n",
    "    avg_loss = 0\n",
    "    offsets = np.random.choice(len(X)-batch_size*lookback-npred, replace=False, size=(nbatches,batch_size))\n",
    "    for ibatch in range(nbatches):\n",
    "        batch_idxs = offsets[ibatch].repeat(lookback).reshape(batch_size,lookback) + np.arange(lookback)\n",
    "        truth_idxs = offsets[ibatch].repeat(npred).reshape(batch_size,npred) + np.arange(npred) + lookback\n",
    "        \n",
    "        if do_rotation:\n",
    "            theta = 2*np.pi*np.random.rand()\n",
    "            c,s = np.cos(theta),np.sin(theta)\n",
    "            rot = np.array([[c,-s,0],[s,c,0],[1,0,0]])\n",
    "\n",
    "            x_train = rot.dot(X[batch_idxs].transpose((0,1,3,2))).transpose((1,2,3,0))\n",
    "            y_train = rot.dot(X[truth_idxs].transpose((0,1,3,2))).transpose((1,2,3,0))\n",
    "        else:\n",
    "            x_train = X[batch_idxs]\n",
    "            y_train = X[truth_idxs]\n",
    "            \n",
    "        avg_loss += model.train_on_batch(x_train, y_train)\n",
    "    losses.append(avg_loss/nbatches)\n",
    "    print(\"Epoch %d/%d: L=%.3e\"%(iepoch,epochs,losses[-1]))"
   ]
  },
  {
   "cell_type": "code",
   "execution_count": null,
   "metadata": {},
   "outputs": [],
   "source": [
    "plt.plot(losses)\n",
    "plt.yscale('log')"
   ]
  },
  {
   "cell_type": "code",
   "execution_count": null,
   "metadata": {},
   "outputs": [],
   "source": [
    "iprompt = np.random.randint(len(X)-batch_size*lookback-1)\n",
    "ngen = 4*lookback\n",
    "\n",
    "gen_seq = np.zeros((lookback+ngen, X.shape[1], X.shape[2]))\n",
    "gen_seq[:lookback] = X[iprompt:iprompt+lookback]\n",
    "\n",
    "for i in range(ngen):\n",
    "    next_frame = model.predict(np.expand_dims(gen_seq[i:i+lookback],0))[0,0]\n",
    "    gen_seq[i+lookback] = next_frame"
   ]
  },
  {
   "cell_type": "code",
   "execution_count": null,
   "metadata": {},
   "outputs": [],
   "source": [
    "HTML(animate(gen_seq))"
   ]
  },
  {
   "cell_type": "code",
   "execution_count": null,
   "metadata": {},
   "outputs": [],
   "source": []
  }
 ],
 "metadata": {
  "kernelspec": {
   "display_name": "Python 3",
   "language": "python",
   "name": "python3"
  },
  "language_info": {
   "codemirror_mode": {
    "name": "ipython",
    "version": 3
   },
   "file_extension": ".py",
   "mimetype": "text/x-python",
   "name": "python",
   "nbconvert_exporter": "python",
   "pygments_lexer": "ipython3",
   "version": "3.6.6"
  }
 },
 "nbformat": 4,
 "nbformat_minor": 2
}
